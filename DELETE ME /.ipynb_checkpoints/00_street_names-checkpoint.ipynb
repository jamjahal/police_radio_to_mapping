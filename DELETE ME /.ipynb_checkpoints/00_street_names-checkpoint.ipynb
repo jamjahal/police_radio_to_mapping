{
 "cells": [
  {
   "cell_type": "markdown",
   "metadata": {},
   "source": [
    "## Scrape Street Names\n",
    "---\n",
    "**Data From:** [geographic.org/streetview/](https://geographic.org/streetview/)"
   ]
  },
  {
   "cell_type": "markdown",
   "metadata": {},
   "source": [
    "#### Import Libraries"
   ]
  },
  {
   "cell_type": "code",
   "execution_count": 1,
   "metadata": {},
   "outputs": [],
   "source": [
    "import requests\n",
    "from bs4 import BeautifulSoup\n",
    "import time"
   ]
  },
  {
   "cell_type": "markdown",
   "metadata": {},
   "source": [
    "#### Set Parameters for Scraping"
   ]
  },
  {
   "cell_type": "code",
   "execution_count": 2,
   "metadata": {},
   "outputs": [],
   "source": [
    "# Website\n",
    "base_url = 'https://geographic.org/streetview/'"
   ]
  },
  {
   "cell_type": "code",
   "execution_count": 3,
   "metadata": {},
   "outputs": [],
   "source": [
    "# Country of Choice\n",
    "country = 'usa'"
   ]
  },
  {
   "cell_type": "code",
   "execution_count": 4,
   "metadata": {},
   "outputs": [],
   "source": [
    "# State of Choice\n",
    "state = 'ca'"
   ]
  },
  {
   "cell_type": "code",
   "execution_count": 5,
   "metadata": {},
   "outputs": [],
   "source": [
    "# County of Choice\n",
    "county = 'san francisco'"
   ]
  },
  {
   "cell_type": "markdown",
   "metadata": {},
   "source": [
    "#### Request and Create List of Streets"
   ]
  },
  {
   "cell_type": "code",
   "execution_count": 6,
   "metadata": {},
   "outputs": [
    {
     "data": {
      "text/plain": [
       "'https://geographic.org/streetview/usa/ca/san francisco.html'"
      ]
     },
     "execution_count": 6,
     "metadata": {},
     "output_type": "execute_result"
    }
   ],
   "source": [
    "url = base_url + country + '/' + state + '/' + county + '.html'\n",
    "url"
   ]
  },
  {
   "cell_type": "code",
   "execution_count": 7,
   "metadata": {},
   "outputs": [],
   "source": [
    "# Set url to be scraped\n",
    "url = base_url + country + '/' + state + '/' + county + '.html'\n",
    "\n",
    "# Request from url\n",
    "res = requests.get(url)\n",
    "\n",
    "# Status code of res\n",
    "res.status_code\n",
    "\n",
    "# Create soup object from the home page\n",
    "soup = BeautifulSoup(res.content, 'lxml')\n",
    "\n",
    "# Find table object\n",
    "table = soup.find('ul')\n",
    "\n",
    "# Create list to append street names\n",
    "streets_list = []\n",
    "\n",
    "# Loop through all rows and append text to list\n",
    "for li in table.find_all('li'):\n",
    "\n",
    "    # append text to list\n",
    "    streets_list.append(li.text)"
   ]
  },
  {
   "cell_type": "code",
   "execution_count": 8,
   "metadata": {},
   "outputs": [
    {
     "data": {
      "text/plain": [
       "[]"
      ]
     },
     "execution_count": 8,
     "metadata": {},
     "output_type": "execute_result"
    }
   ],
   "source": [
    "# Print first 5 street names\n",
    "streets_list[:5]"
   ]
  },
  {
   "cell_type": "code",
   "execution_count": 27,
   "metadata": {},
   "outputs": [
    {
     "name": "stdout",
     "output_type": "stream",
     "text": [
      "Stored 'streets_list' (list)\n"
     ]
    }
   ],
   "source": [
    "# Store variable for later use\n",
    "%store streets_list"
   ]
  }
 ],
 "metadata": {
  "kernelspec": {
   "display_name": "Python 3",
   "language": "python",
   "name": "python3"
  },
  "language_info": {
   "codemirror_mode": {
    "name": "ipython",
    "version": 3
   },
   "file_extension": ".py",
   "mimetype": "text/x-python",
   "name": "python",
   "nbconvert_exporter": "python",
   "pygments_lexer": "ipython3",
   "version": "3.7.3"
  }
 },
 "nbformat": 4,
 "nbformat_minor": 2
}
