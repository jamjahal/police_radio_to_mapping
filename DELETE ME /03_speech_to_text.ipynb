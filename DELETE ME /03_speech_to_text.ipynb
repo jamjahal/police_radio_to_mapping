{
 "cells": [
  {
   "cell_type": "markdown",
   "metadata": {},
   "source": [
    "## Speech to Text\n",
    "---\n",
    "**Code Adapted from:** [Mitchell Bohman, Nour Zahlan, and Masiur Abik](https://github.com/mchbmn/radio-to-location) and [Joseph Hopkins, Carol, Chiu, Anthony Chapman, Kwamae Delva](https://github.com/delvakwa/police_radio_to_mapping)"
   ]
  },
  {
   "cell_type": "code",
   "execution_count": 66,
   "metadata": {},
   "outputs": [],
   "source": [
    "import os\n",
    "import io\n",
    "import time\n",
    "\n",
    "import pandas as pd\n",
    "import numpy as np\n",
    "from pydub import AudioSegment\n",
    "\n",
    "# Imports the Google Cloud client library\n",
    "from google.cloud import speech\n",
    "from google.cloud.speech import enums\n",
    "from google.cloud.speech import types"
   ]
  },
  {
   "cell_type": "code",
   "execution_count": 67,
   "metadata": {},
   "outputs": [],
   "source": [
    "pd.options.display.max_colwidth = 1000"
   ]
  },
  {
   "cell_type": "markdown",
   "metadata": {},
   "source": [
    "Pool is a class in the multiprocessing package that distributes functionality across multiple processes in a computer. Simply put, it lets the computer assign more than one person to build a fence instead of 1. This dramatically speeds up the time it takes for computationally expensive tasks to run and it called and placed around such tasks. "
   ]
  },
  {
   "cell_type": "code",
   "execution_count": 68,
   "metadata": {},
   "outputs": [],
   "source": [
    "os.environ[\"GOOGLE_APPLICATION_CREDENTIALS\"] = '/Users/gabrielperezprieto/Documents/Future/GOOGLE/My First Project-9b59743c8b2f.json'\n",
    "client = speech.SpeechClient()"
   ]
  },
  {
   "cell_type": "markdown",
   "metadata": {},
   "source": [
    "#### Check Number of Files Under File Path"
   ]
  },
  {
   "cell_type": "code",
   "execution_count": 69,
   "metadata": {},
   "outputs": [
    {
     "name": "stdout",
     "output_type": "stream",
     "text": [
      "Number of Files: 17\n"
     ]
    }
   ],
   "source": [
    "path = './testing/wav_converted_files/'\n",
    "wav_files = []\n",
    "for file in os.listdir(path):\n",
    "    if file.endswith('.wav'):\n",
    "        wav_files.append(file)\n",
    "print(f'Number of Files: {len(wav_files)}')"
   ]
  },
  {
   "cell_type": "markdown",
   "metadata": {},
   "source": [
    "#### Tests a Specific Audio File"
   ]
  },
  {
   "cell_type": "code",
   "execution_count": 70,
   "metadata": {},
   "outputs": [
    {
     "name": "stdout",
     "output_type": "stream",
     "text": [
      "Sample Width: 2\n",
      "Channel Count: 2\n",
      "Duration: 8.587s\n",
      "Sample Rate: 22050\n"
     ]
    }
   ],
   "source": [
    "sound_file = AudioSegment.from_file('./testing/wav_converted_files/' + str(wav_files[0]), format=\"wav\")\n",
    "\n",
    "print(f'Sample Width: {sound_file.sample_width}')\n",
    "print(f'Channel Count: {sound_file.channels}')\n",
    "print(f'Duration: {len(sound_file) / 1000}s')\n",
    "print(f'Sample Rate: {sound_file.frame_rate}')"
   ]
  },
  {
   "cell_type": "markdown",
   "metadata": {},
   "source": [
    "#### Speech to Text - Google API + Streets Context"
   ]
  },
  {
   "cell_type": "code",
   "execution_count": 71,
   "metadata": {},
   "outputs": [],
   "source": [
    "# Refresh stored variables from previous notebooks\n",
    "%store -r"
   ]
  },
  {
   "cell_type": "code",
   "execution_count": 86,
   "metadata": {},
   "outputs": [],
   "source": [
    "def google_speech_to_text(filepath):\n",
    "    \n",
    "    '''Converts audio files under selected folder to text and returns a DataFrame'''\n",
    "\n",
    "    # Create list to house data on every loop\n",
    "    list_results = []\n",
    "\n",
    "    # Loop through all files in path provided\n",
    "    for n, file in enumerate(os.listdir(path)):\n",
    "    \n",
    "        t1 = time.time()\n",
    "        \n",
    "        # Select only the ones with extension '.wav'\n",
    "        if file.endswith('.wav'):\n",
    "            \n",
    "            # Instantiate dictionary\n",
    "            d = {}\n",
    "            \n",
    "            # Instantiates a client\n",
    "            client = speech.SpeechClient()\n",
    "\n",
    "            # Loads the audio into memory\n",
    "            with io.open(path + file, 'rb') as audio_file:\n",
    "                content = audio_file.read()\n",
    "                audio = types.RecognitionAudio(content=content)\n",
    "\n",
    "            # Configure recognition parameters\n",
    "            config = types.RecognitionConfig(\n",
    "                encoding=enums.RecognitionConfig.AudioEncoding.LINEAR16,\n",
    "                sample_rate_hertz=22050,\n",
    "                language_code='en-US',\n",
    "                audio_channel_count=2,\n",
    "                model = 'video',\n",
    "                speech_contexts= [{'phrases': streets_list}])\n",
    "\n",
    "            # Detects speech in the audio file\n",
    "            response = client.recognize(config, audio)\n",
    "\n",
    "            # Create string to house pieces returned by result\n",
    "            string = ''\n",
    "            list_confidence = []\n",
    "\n",
    "            # Loop through results\n",
    "            for result in response.results:\n",
    "\n",
    "                # if lenght is greater than 0\n",
    "                if len(result.alternatives[0].transcript) > 0:\n",
    "\n",
    "                    # Append to list\n",
    "                    string = string + result.alternatives[0].transcript\n",
    "                    list_confidence.append(result.alternatives[0].confidence)\n",
    "            \n",
    "            # Create key/value pair for dictionary                      \n",
    "            d['transcripts'] = string\n",
    "            d['confidence'] = np.mean(list_confidence)\n",
    "\n",
    "            # Append dictionary to list\n",
    "            list_results.append(d)\n",
    "            \n",
    "            # Print RunTime\n",
    "            print(f'File {n} RunTime: {round(time.time() - t1, 2)}s')\n",
    "    \n",
    "    # Create DataFrame with list_results\n",
    "    df = pd.DataFrame(list_results)\n",
    "\n",
    "    # Return DataFrame\n",
    "    return df"
   ]
  },
  {
   "cell_type": "markdown",
   "metadata": {},
   "source": [
    "#### Create DataFrame from Speech To Text"
   ]
  },
  {
   "cell_type": "code",
   "execution_count": 87,
   "metadata": {
    "scrolled": true
   },
   "outputs": [
    {
     "name": "stderr",
     "output_type": "stream",
     "text": [
      "/Users/gabrielperezprieto/anaconda3/lib/python3.7/site-packages/numpy/core/fromnumeric.py:2920: RuntimeWarning: Mean of empty slice.\n",
      "  out=out, **kwargs)\n",
      "/Users/gabrielperezprieto/anaconda3/lib/python3.7/site-packages/numpy/core/_methods.py:85: RuntimeWarning: invalid value encountered in double_scalars\n",
      "  ret = ret.dtype.type(ret / rcount)\n"
     ]
    },
    {
     "name": "stdout",
     "output_type": "stream",
     "text": [
      "File 0 RunTime: 4.5s\n",
      "File 1 RunTime: 8.73s\n",
      "File 2 RunTime: 7.07s\n",
      "File 3 RunTime: 6.43s\n",
      "File 4 RunTime: 9.22s\n",
      "File 5 RunTime: 5.64s\n",
      "File 6 RunTime: 9.01s\n",
      "File 8 RunTime: 3.89s\n",
      "File 9 RunTime: 9.02s\n",
      "File 10 RunTime: 3.21s\n",
      "File 11 RunTime: 10.2s\n",
      "File 12 RunTime: 5.86s\n",
      "File 13 RunTime: 3.76s\n",
      "File 14 RunTime: 3.68s\n",
      "File 15 RunTime: 8.4s\n",
      "File 16 RunTime: 8.6s\n",
      "File 17 RunTime: 4.6s\n"
     ]
    }
   ],
   "source": [
    "df = google_speech_to_text('./testing/wav_converted_files/')"
   ]
  },
  {
   "cell_type": "code",
   "execution_count": 88,
   "metadata": {},
   "outputs": [
    {
     "data": {
      "text/plain": [
       "(17, 2)"
      ]
     },
     "execution_count": 88,
     "metadata": {},
     "output_type": "execute_result"
    }
   ],
   "source": [
    "df.shape"
   ]
  },
  {
   "cell_type": "code",
   "execution_count": 89,
   "metadata": {},
   "outputs": [
    {
     "data": {
      "text/html": [
       "<div>\n",
       "<style scoped>\n",
       "    .dataframe tbody tr th:only-of-type {\n",
       "        vertical-align: middle;\n",
       "    }\n",
       "\n",
       "    .dataframe tbody tr th {\n",
       "        vertical-align: top;\n",
       "    }\n",
       "\n",
       "    .dataframe thead th {\n",
       "        text-align: right;\n",
       "    }\n",
       "</style>\n",
       "<table border=\"1\" class=\"dataframe\">\n",
       "  <thead>\n",
       "    <tr style=\"text-align: right;\">\n",
       "      <th></th>\n",
       "      <th>transcripts</th>\n",
       "      <th>confidence</th>\n",
       "    </tr>\n",
       "  </thead>\n",
       "  <tbody>\n",
       "    <tr>\n",
       "      <td>0</td>\n",
       "      <td></td>\n",
       "      <td>NaN</td>\n",
       "    </tr>\n",
       "    <tr>\n",
       "      <td>1</td>\n",
       "      <td>otherwise I believe is that a smile</td>\n",
       "      <td>0.750689</td>\n",
       "    </tr>\n",
       "    <tr>\n",
       "      <td>2</td>\n",
       "      <td>3480 to drinking water heater to Category 5 Laguna Road 22:35 Laguna Road Clayton find Hill School Road Trio Court box 2843 Alpha control</td>\n",
       "      <td>0.838746</td>\n",
       "    </tr>\n",
       "    <tr>\n",
       "      <td>3</td>\n",
       "      <td>so this sounds 2.11 button Court 24:11 button Court Santa Rosa Pinecrest Drive Box 28.7 offer three control three 10:49</td>\n",
       "      <td>0.868329</td>\n",
       "    </tr>\n",
       "    <tr>\n",
       "      <td>4</td>\n",
       "      <td>seven five six 5150 Burbank Heights Apartment seven seven seven seven Brea Avenue 7777 Bodega Avenues Baskervilles unit are three one zero Nelson Way Virginia Avenue Fox 3143 Bravo for control</td>\n",
       "      <td>0.899073</td>\n",
       "    </tr>\n",
       "  </tbody>\n",
       "</table>\n",
       "</div>"
      ],
      "text/plain": [
       "                                                                                                                                                                                        transcripts  \\\n",
       "0                                                                                                                                                                                                     \n",
       "1                                                                                                                                                               otherwise I believe is that a smile   \n",
       "2                                                         3480 to drinking water heater to Category 5 Laguna Road 22:35 Laguna Road Clayton find Hill School Road Trio Court box 2843 Alpha control   \n",
       "3                                                                           so this sounds 2.11 button Court 24:11 button Court Santa Rosa Pinecrest Drive Box 28.7 offer three control three 10:49   \n",
       "4  seven five six 5150 Burbank Heights Apartment seven seven seven seven Brea Avenue 7777 Bodega Avenues Baskervilles unit are three one zero Nelson Way Virginia Avenue Fox 3143 Bravo for control   \n",
       "\n",
       "   confidence  \n",
       "0         NaN  \n",
       "1    0.750689  \n",
       "2    0.838746  \n",
       "3    0.868329  \n",
       "4    0.899073  "
      ]
     },
     "execution_count": 89,
     "metadata": {},
     "output_type": "execute_result"
    }
   ],
   "source": [
    "df.head()"
   ]
  },
  {
   "cell_type": "markdown",
   "metadata": {},
   "source": [
    "#### Drop NaN Values / Blank Transcripts"
   ]
  },
  {
   "cell_type": "code",
   "execution_count": 90,
   "metadata": {},
   "outputs": [],
   "source": [
    "df.dropna(inplace=True)\n",
    "df.reset_index(drop=True, inplace=True)"
   ]
  },
  {
   "cell_type": "code",
   "execution_count": 91,
   "metadata": {},
   "outputs": [],
   "source": [
    "df['transcripts'] = df['transcripts'].map(lambda x: x.replace(':','').strip())"
   ]
  },
  {
   "cell_type": "code",
   "execution_count": 92,
   "metadata": {},
   "outputs": [
    {
     "data": {
      "text/html": [
       "<div>\n",
       "<style scoped>\n",
       "    .dataframe tbody tr th:only-of-type {\n",
       "        vertical-align: middle;\n",
       "    }\n",
       "\n",
       "    .dataframe tbody tr th {\n",
       "        vertical-align: top;\n",
       "    }\n",
       "\n",
       "    .dataframe thead th {\n",
       "        text-align: right;\n",
       "    }\n",
       "</style>\n",
       "<table border=\"1\" class=\"dataframe\">\n",
       "  <thead>\n",
       "    <tr style=\"text-align: right;\">\n",
       "      <th></th>\n",
       "      <th>transcripts</th>\n",
       "      <th>confidence</th>\n",
       "    </tr>\n",
       "  </thead>\n",
       "  <tbody>\n",
       "    <tr>\n",
       "      <td>0</td>\n",
       "      <td>otherwise I believe is that a smile</td>\n",
       "      <td>0.750689</td>\n",
       "    </tr>\n",
       "    <tr>\n",
       "      <td>1</td>\n",
       "      <td>3480 to drinking water heater to Category 5 Laguna Road 2235 Laguna Road Clayton find Hill School Road Trio Court box 2843 Alpha control</td>\n",
       "      <td>0.838746</td>\n",
       "    </tr>\n",
       "    <tr>\n",
       "      <td>2</td>\n",
       "      <td>so this sounds 2.11 button Court 2411 button Court Santa Rosa Pinecrest Drive Box 28.7 offer three control three 1049</td>\n",
       "      <td>0.868329</td>\n",
       "    </tr>\n",
       "    <tr>\n",
       "      <td>3</td>\n",
       "      <td>seven five six 5150 Burbank Heights Apartment seven seven seven seven Brea Avenue 7777 Bodega Avenues Baskervilles unit are three one zero Nelson Way Virginia Avenue Fox 3143 Bravo for control</td>\n",
       "      <td>0.899073</td>\n",
       "    </tr>\n",
       "    <tr>\n",
       "      <td>4</td>\n",
       "      <td>report of the leaking water here 2235 live in a river</td>\n",
       "      <td>0.803640</td>\n",
       "    </tr>\n",
       "  </tbody>\n",
       "</table>\n",
       "</div>"
      ],
      "text/plain": [
       "                                                                                                                                                                                        transcripts  \\\n",
       "0                                                                                                                                                               otherwise I believe is that a smile   \n",
       "1                                                          3480 to drinking water heater to Category 5 Laguna Road 2235 Laguna Road Clayton find Hill School Road Trio Court box 2843 Alpha control   \n",
       "2                                                                             so this sounds 2.11 button Court 2411 button Court Santa Rosa Pinecrest Drive Box 28.7 offer three control three 1049   \n",
       "3  seven five six 5150 Burbank Heights Apartment seven seven seven seven Brea Avenue 7777 Bodega Avenues Baskervilles unit are three one zero Nelson Way Virginia Avenue Fox 3143 Bravo for control   \n",
       "4                                                                                                                                             report of the leaking water here 2235 live in a river   \n",
       "\n",
       "   confidence  \n",
       "0    0.750689  \n",
       "1    0.838746  \n",
       "2    0.868329  \n",
       "3    0.899073  \n",
       "4    0.803640  "
      ]
     },
     "execution_count": 92,
     "metadata": {},
     "output_type": "execute_result"
    }
   ],
   "source": [
    "df.head()"
   ]
  },
  {
   "cell_type": "markdown",
   "metadata": {},
   "source": [
    "#### Check Total Confidence on Speech to Text"
   ]
  },
  {
   "cell_type": "code",
   "execution_count": 93,
   "metadata": {},
   "outputs": [
    {
     "data": {
      "text/plain": [
       "0.83165"
      ]
     },
     "execution_count": 93,
     "metadata": {},
     "output_type": "execute_result"
    }
   ],
   "source": [
    "round(np.mean(df['confidence']),5)"
   ]
  },
  {
   "cell_type": "markdown",
   "metadata": {},
   "source": [
    "#### Tokenize Transcripts"
   ]
  },
  {
   "cell_type": "code",
   "execution_count": 94,
   "metadata": {},
   "outputs": [],
   "source": [
    "df['tokens'] = df['transcripts'].map(lambda x: x.lower().split(' '))"
   ]
  },
  {
   "cell_type": "code",
   "execution_count": 95,
   "metadata": {},
   "outputs": [
    {
     "data": {
      "text/html": [
       "<div>\n",
       "<style scoped>\n",
       "    .dataframe tbody tr th:only-of-type {\n",
       "        vertical-align: middle;\n",
       "    }\n",
       "\n",
       "    .dataframe tbody tr th {\n",
       "        vertical-align: top;\n",
       "    }\n",
       "\n",
       "    .dataframe thead th {\n",
       "        text-align: right;\n",
       "    }\n",
       "</style>\n",
       "<table border=\"1\" class=\"dataframe\">\n",
       "  <thead>\n",
       "    <tr style=\"text-align: right;\">\n",
       "      <th></th>\n",
       "      <th>transcripts</th>\n",
       "      <th>confidence</th>\n",
       "      <th>tokens</th>\n",
       "    </tr>\n",
       "  </thead>\n",
       "  <tbody>\n",
       "    <tr>\n",
       "      <td>0</td>\n",
       "      <td>otherwise I believe is that a smile</td>\n",
       "      <td>0.750689</td>\n",
       "      <td>[otherwise, i, believe, is, that, a, smile]</td>\n",
       "    </tr>\n",
       "    <tr>\n",
       "      <td>1</td>\n",
       "      <td>3480 to drinking water heater to Category 5 Laguna Road 2235 Laguna Road Clayton find Hill School Road Trio Court box 2843 Alpha control</td>\n",
       "      <td>0.838746</td>\n",
       "      <td>[3480, to, drinking, water, heater, to, category, 5, laguna, road, 2235, laguna, road, clayton, find, hill, school, road, trio, court, box, 2843, alpha, control]</td>\n",
       "    </tr>\n",
       "    <tr>\n",
       "      <td>2</td>\n",
       "      <td>so this sounds 2.11 button Court 2411 button Court Santa Rosa Pinecrest Drive Box 28.7 offer three control three 1049</td>\n",
       "      <td>0.868329</td>\n",
       "      <td>[so, this, sounds, 2.11, button, court, 2411, button, court, santa, rosa, pinecrest, drive, box, 28.7, offer, three, control, three, 1049]</td>\n",
       "    </tr>\n",
       "    <tr>\n",
       "      <td>3</td>\n",
       "      <td>seven five six 5150 Burbank Heights Apartment seven seven seven seven Brea Avenue 7777 Bodega Avenues Baskervilles unit are three one zero Nelson Way Virginia Avenue Fox 3143 Bravo for control</td>\n",
       "      <td>0.899073</td>\n",
       "      <td>[seven, five, six, 5150, burbank, heights, apartment, seven, seven, seven, seven, brea, avenue, 7777, bodega, avenues, baskervilles, unit, are, three, one, zero, nelson, way, virginia, avenue, fox, 3143, bravo, for, control]</td>\n",
       "    </tr>\n",
       "    <tr>\n",
       "      <td>4</td>\n",
       "      <td>report of the leaking water here 2235 live in a river</td>\n",
       "      <td>0.803640</td>\n",
       "      <td>[report, of, the, leaking, water, here, 2235, live, in, a, river]</td>\n",
       "    </tr>\n",
       "  </tbody>\n",
       "</table>\n",
       "</div>"
      ],
      "text/plain": [
       "                                                                                                                                                                                        transcripts  \\\n",
       "0                                                                                                                                                               otherwise I believe is that a smile   \n",
       "1                                                          3480 to drinking water heater to Category 5 Laguna Road 2235 Laguna Road Clayton find Hill School Road Trio Court box 2843 Alpha control   \n",
       "2                                                                             so this sounds 2.11 button Court 2411 button Court Santa Rosa Pinecrest Drive Box 28.7 offer three control three 1049   \n",
       "3  seven five six 5150 Burbank Heights Apartment seven seven seven seven Brea Avenue 7777 Bodega Avenues Baskervilles unit are three one zero Nelson Way Virginia Avenue Fox 3143 Bravo for control   \n",
       "4                                                                                                                                             report of the leaking water here 2235 live in a river   \n",
       "\n",
       "   confidence  \\\n",
       "0    0.750689   \n",
       "1    0.838746   \n",
       "2    0.868329   \n",
       "3    0.899073   \n",
       "4    0.803640   \n",
       "\n",
       "                                                                                                                                                                                                                             tokens  \n",
       "0                                                                                                                                                                                       [otherwise, i, believe, is, that, a, smile]  \n",
       "1                                                                 [3480, to, drinking, water, heater, to, category, 5, laguna, road, 2235, laguna, road, clayton, find, hill, school, road, trio, court, box, 2843, alpha, control]  \n",
       "2                                                                                        [so, this, sounds, 2.11, button, court, 2411, button, court, santa, rosa, pinecrest, drive, box, 28.7, offer, three, control, three, 1049]  \n",
       "3  [seven, five, six, 5150, burbank, heights, apartment, seven, seven, seven, seven, brea, avenue, 7777, bodega, avenues, baskervilles, unit, are, three, one, zero, nelson, way, virginia, avenue, fox, 3143, bravo, for, control]  \n",
       "4                                                                                                                                                                 [report, of, the, leaking, water, here, 2235, live, in, a, river]  "
      ]
     },
     "execution_count": 95,
     "metadata": {},
     "output_type": "execute_result"
    }
   ],
   "source": [
    "df.head()"
   ]
  },
  {
   "cell_type": "markdown",
   "metadata": {},
   "source": [
    "#### Save Clean DataFrame to .csv"
   ]
  },
  {
   "cell_type": "code",
   "execution_count": 96,
   "metadata": {},
   "outputs": [],
   "source": [
    "df.to_csv('./data/transcripts.csv', index_label=False)"
   ]
  }
 ],
 "metadata": {
  "kernelspec": {
   "display_name": "Python 3",
   "language": "python",
   "name": "python3"
  },
  "language_info": {
   "codemirror_mode": {
    "name": "ipython",
    "version": 3
   },
   "file_extension": ".py",
   "mimetype": "text/x-python",
   "name": "python",
   "nbconvert_exporter": "python",
   "pygments_lexer": "ipython3",
   "version": "3.7.3"
  }
 },
 "nbformat": 4,
 "nbformat_minor": 2
}
